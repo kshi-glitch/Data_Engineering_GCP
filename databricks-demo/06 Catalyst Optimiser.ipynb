{
 "cells": [
  {
   "cell_type": "code",
   "execution_count": 0,
   "metadata": {
    "application/vnd.databricks.v1+cell": {
     "cellMetadata": {
      "byteLimit": 2048000,
      "rowLimit": 10000
     },
     "inputWidgets": {},
     "nuid": "3c4d9b2a-7c76-4701-beac-0c06ccb421cf",
     "showTitle": false,
     "tableResultSettingsMap": {},
     "title": ""
    }
   },
   "outputs": [
    {
     "output_type": "display_data",
     "data": {
      "text/html": [
       "<style scoped>\n",
       "  .table-result-container {\n",
       "    max-height: 300px;\n",
       "    overflow: auto;\n",
       "  }\n",
       "  table, th, td {\n",
       "    border: 1px solid black;\n",
       "    border-collapse: collapse;\n",
       "  }\n",
       "  th, td {\n",
       "    padding: 5px;\n",
       "  }\n",
       "  th {\n",
       "    text-align: left;\n",
       "  }\n",
       "</style><div class='table-result-container'><table class='table-result'><thead style='background-color: white'><tr><th>path</th><th>name</th><th>size</th><th>modificationTime</th></tr></thead><tbody><tr><td>dbfs:/public/retail_db/</td><td>retail_db/</td><td>0</td><td>1747124194777</td></tr><tr><td>dbfs:/public/retail_db_bronze/</td><td>retail_db_bronze/</td><td>0</td><td>0</td></tr><tr><td>dbfs:/public/retail_db_gold/</td><td>retail_db_gold/</td><td>0</td><td>0</td></tr></tbody></table></div>"
      ]
     },
     "metadata": {
      "application/vnd.databricks.v1+output": {
       "addedWidgets": {},
       "aggData": [],
       "aggError": "",
       "aggOverflow": false,
       "aggSchema": [],
       "aggSeriesLimitReached": false,
       "aggType": "",
       "arguments": {},
       "columnCustomDisplayInfos": {},
       "data": [
        [
         "dbfs:/public/retail_db/",
         "retail_db/",
         0,
         1747124194777
        ],
        [
         "dbfs:/public/retail_db_bronze/",
         "retail_db_bronze/",
         0,
         0
        ],
        [
         "dbfs:/public/retail_db_gold/",
         "retail_db_gold/",
         0,
         0
        ]
       ],
       "datasetInfos": [],
       "dbfsResultPath": null,
       "isJsonSchema": true,
       "metadata": {
        "isDbfsCommandResult": false
       },
       "overflow": false,
       "plotOptions": {
        "customPlotOptions": {},
        "displayType": "table",
        "pivotAggregation": null,
        "pivotColumns": null,
        "xColumns": null,
        "yColumns": null
       },
       "removedWidgets": [],
       "schema": [
        {
         "metadata": "{}",
         "name": "path",
         "type": "\"string\""
        },
        {
         "metadata": "{}",
         "name": "name",
         "type": "\"string\""
        },
        {
         "metadata": "{}",
         "name": "size",
         "type": "\"long\""
        },
        {
         "metadata": "{}",
         "name": "modificationTime",
         "type": "\"long\""
        }
       ],
       "type": "table"
      }
     },
     "output_type": "display_data"
    }
   ],
   "source": [
    "%fs ls dbfs:/public/"
   ]
  },
  {
   "cell_type": "code",
   "execution_count": 0,
   "metadata": {
    "application/vnd.databricks.v1+cell": {
     "cellMetadata": {
      "byteLimit": 2048000,
      "rowLimit": 10000
     },
     "inputWidgets": {},
     "nuid": "fc8eb577-c482-4d52-afbc-b158089a3155",
     "showTitle": false,
     "tableResultSettingsMap": {},
     "title": ""
    }
   },
   "outputs": [],
   "source": [
    "from pyspark.sql.functions import col, sum, round"
   ]
  },
  {
   "cell_type": "code",
   "execution_count": 0,
   "metadata": {
    "application/vnd.databricks.v1+cell": {
     "cellMetadata": {
      "byteLimit": 2048000,
      "rowLimit": 10000
     },
     "inputWidgets": {},
     "nuid": "97675067-0dbe-4947-85bb-8c4491f08254",
     "showTitle": false,
     "tableResultSettingsMap": {},
     "title": ""
    }
   },
   "outputs": [],
   "source": [
    "orders = spark.read.csv(\"dbfs:/public/retail_db/orders\", schema = 'order_id INT, order_date TIMESTAMP, order_customer_id INT, order_status STRING')"
   ]
  },
  {
   "cell_type": "code",
   "execution_count": 0,
   "metadata": {
    "application/vnd.databricks.v1+cell": {
     "cellMetadata": {
      "byteLimit": 2048000,
      "rowLimit": 10000
     },
     "inputWidgets": {},
     "nuid": "e6c1440b-e3cc-483e-b388-b0a3ea0f4fea",
     "showTitle": false,
     "tableResultSettingsMap": {},
     "title": ""
    }
   },
   "outputs": [],
   "source": [
    "order_items = spark.read.csv(\"dbfs:/public/retail_db/order_items\", schema = 'order_item_id INT, order_item_order_id INT, order_item_product_id INT, order_item_quantity INT, order_item_subtotal FLOAT, order_item_product_price FLOAT')"
   ]
  },
  {
   "cell_type": "code",
   "execution_count": 0,
   "metadata": {
    "application/vnd.databricks.v1+cell": {
     "cellMetadata": {
      "byteLimit": 2048000,
      "rowLimit": 10000
     },
     "inputWidgets": {},
     "nuid": "c982f72c-0606-4714-9b46-e6c75b5f69a7",
     "showTitle": false,
     "tableResultSettingsMap": {},
     "title": ""
    }
   },
   "outputs": [],
   "source": [
    "daily_product_revenue = (orders\\\n",
    "                         .filter('''order_status in ('COMPLETE', 'CLOSED')''')\\\n",
    "                         .join(order_items, orders.order_id == order_items.order_item_order_id)\\\n",
    "                         .groupBy(orders.order_date, order_items.order_item_product_id)\\\n",
    "                         .agg(round(sum(order_items.order_item_subtotal), 2).alias('revenue')))"
   ]
  },
  {
   "cell_type": "code",
   "execution_count": 0,
   "metadata": {
    "application/vnd.databricks.v1+cell": {
     "cellMetadata": {
      "byteLimit": 2048000,
      "rowLimit": 10000
     },
     "inputWidgets": {},
     "nuid": "6a93505a-fff5-4318-ae87-3ed7d62689b4",
     "showTitle": false,
     "tableResultSettingsMap": {},
     "title": ""
    }
   },
   "outputs": [],
   "source": [
    "daily_product_revenue.write.mode('overwrite').parquet(\"dbfs:/public/retail_db/daily_product_revenue\")"
   ]
  },
  {
   "cell_type": "code",
   "execution_count": 0,
   "metadata": {
    "application/vnd.databricks.v1+cell": {
     "cellMetadata": {
      "byteLimit": 2048000,
      "rowLimit": 10000
     },
     "inputWidgets": {},
     "nuid": "75d77d62-ec9b-4226-9e3e-e2748bd84a3b",
     "showTitle": false,
     "tableResultSettingsMap": {},
     "title": ""
    }
   },
   "outputs": [
    {
     "output_type": "stream",
     "name": "stdout",
     "output_type": "stream",
     "text": [
      "== Parsed Logical Plan ==\n'Aggregate [order_date#37, order_item_product_id#46], [order_date#37, order_item_product_id#46, 'round('sum(order_item_subtotal#48), 2) AS revenue#88]\n+- Join Inner, (order_id#36 = order_item_order_id#45)\n   :- Filter order_status#39 IN (COMPLETE,CLOSED)\n   :  +- Relation [order_id#36,order_date#37,order_customer_id#38,order_status#39] csv\n   +- Relation [order_item_id#44,order_item_order_id#45,order_item_product_id#46,order_item_quantity#47,order_item_subtotal#48,order_item_product_price#49] csv\n\n== Analyzed Logical Plan ==\norder_date: timestamp, order_item_product_id: int, revenue: double\nAggregate [order_date#37, order_item_product_id#46], [order_date#37, order_item_product_id#46, round(sum(order_item_subtotal#48), 2) AS revenue#88]\n+- Join Inner, (order_id#36 = order_item_order_id#45)\n   :- Filter order_status#39 IN (COMPLETE,CLOSED)\n   :  +- Relation [order_id#36,order_date#37,order_customer_id#38,order_status#39] csv\n   +- Relation [order_item_id#44,order_item_order_id#45,order_item_product_id#46,order_item_quantity#47,order_item_subtotal#48,order_item_product_price#49] csv\n\n== Optimized Logical Plan ==\nAggregate [order_date#37, order_item_product_id#46], [order_date#37, order_item_product_id#46, round(sum(order_item_subtotal#48), 2) AS revenue#88]\n+- Project [order_date#37, order_item_product_id#46, order_item_subtotal#48]\n   +- Join Inner, (order_id#36 = order_item_order_id#45)\n      :- Project [order_id#36, order_date#37]\n      :  +- Filter (order_status#39 IN (COMPLETE,CLOSED) AND isnotnull(order_id#36))\n      :     +- Relation [order_id#36,order_date#37,order_customer_id#38,order_status#39] csv\n      +- Project [order_item_order_id#45, order_item_product_id#46, order_item_subtotal#48]\n         +- Filter isnotnull(order_item_order_id#45)\n            +- Relation [order_item_id#44,order_item_order_id#45,order_item_product_id#46,order_item_quantity#47,order_item_subtotal#48,order_item_product_price#49] csv\n\n== Physical Plan ==\nAdaptiveSparkPlan isFinalPlan=false\n+- == Initial Plan ==\n   HashAggregate(keys=[order_date#37, order_item_product_id#46], functions=[finalmerge_sum(merge sum#97) AS sum(order_item_subtotal#48)#89], output=[order_date#37, order_item_product_id#46, revenue#88])\n   +- Exchange hashpartitioning(order_date#37, order_item_product_id#46, 200), ENSURE_REQUIREMENTS, [plan_id=235]\n      +- HashAggregate(keys=[order_date#37, order_item_product_id#46], functions=[partial_sum(order_item_subtotal#48) AS sum#97], output=[order_date#37, order_item_product_id#46, sum#97])\n         +- Project [order_date#37, order_item_product_id#46, order_item_subtotal#48]\n            +- BroadcastHashJoin [order_id#36], [order_item_order_id#45], Inner, BuildLeft, false, true\n               :- Exchange SinglePartition, EXECUTOR_BROADCAST, [plan_id=230]\n               :  +- Project [order_id#36, order_date#37]\n               :     +- Filter (order_status#39 IN (COMPLETE,CLOSED) AND isnotnull(order_id#36))\n               :        +- FileScan csv [order_id#36,order_date#37,order_status#39] Batched: false, DataFilters: [order_status#39 IN (COMPLETE,CLOSED), isnotnull(order_id#36)], Format: CSV, Location: InMemoryFileIndex(1 paths)[dbfs:/public/retail_db/orders], PartitionFilters: [], PushedFilters: [In(order_status, [CLOSED,COMPLETE]), IsNotNull(order_id)], ReadSchema: struct<order_id:int,order_date:timestamp,order_status:string>\n               +- Filter isnotnull(order_item_order_id#45)\n                  +- FileScan csv [order_item_order_id#45,order_item_product_id#46,order_item_subtotal#48] Batched: false, DataFilters: [isnotnull(order_item_order_id#45)], Format: CSV, Location: InMemoryFileIndex(1 paths)[dbfs:/public/retail_db/order_items], PartitionFilters: [], PushedFilters: [IsNotNull(order_item_order_id)], ReadSchema: struct<order_item_order_id:int,order_item_product_id:int,order_item_subtotal:float>\n\n"
     ]
    }
   ],
   "source": [
    "daily_product_revenue.explain(True)"
   ]
  },
  {
   "cell_type": "code",
   "execution_count": 0,
   "metadata": {
    "application/vnd.databricks.v1+cell": {
     "cellMetadata": {
      "byteLimit": 2048000,
      "rowLimit": 10000
     },
     "inputWidgets": {},
     "nuid": "c3c3cce5-22b4-4f28-bdd4-1ebbef5dc379",
     "showTitle": false,
     "tableResultSettingsMap": {},
     "title": ""
    }
   },
   "outputs": [
    {
     "output_type": "stream",
     "name": "stdout",
     "output_type": "stream",
     "text": [
      "== Parsed Logical Plan ==\n'Aggregate [order_date#37, order_item_product_id#46], [order_date#37, order_item_product_id#46, 'round('sum(order_item_subtotal#48), 2) AS revenue#88]\n+- Join Inner, (order_id#36 = order_item_order_id#45)\n   :- Filter order_status#39 IN (COMPLETE,CLOSED)\n   :  +- Relation [order_id#36,order_date#37,order_customer_id#38,order_status#39] csv\n   +- Relation [order_item_id#44,order_item_order_id#45,order_item_product_id#46,order_item_quantity#47,order_item_subtotal#48,order_item_product_price#49] csv\n\n== Analyzed Logical Plan ==\norder_date: timestamp, order_item_product_id: int, revenue: double\nAggregate [order_date#37, order_item_product_id#46], [order_date#37, order_item_product_id#46, round(sum(order_item_subtotal#48), 2) AS revenue#88]\n+- Join Inner, (order_id#36 = order_item_order_id#45)\n   :- Filter order_status#39 IN (COMPLETE,CLOSED)\n   :  +- Relation [order_id#36,order_date#37,order_customer_id#38,order_status#39] csv\n   +- Relation [order_item_id#44,order_item_order_id#45,order_item_product_id#46,order_item_quantity#47,order_item_subtotal#48,order_item_product_price#49] csv\n\n== Optimized Logical Plan ==\nAggregate [order_date#37, order_item_product_id#46], [order_date#37, order_item_product_id#46, round(sum(order_item_subtotal#48), 2) AS revenue#88]\n+- Project [order_date#37, order_item_product_id#46, order_item_subtotal#48]\n   +- Join Inner, (order_id#36 = order_item_order_id#45)\n      :- Project [order_id#36, order_date#37]\n      :  +- Filter (order_status#39 IN (COMPLETE,CLOSED) AND isnotnull(order_id#36))\n      :     +- Relation [order_id#36,order_date#37,order_customer_id#38,order_status#39] csv\n      +- Project [order_item_order_id#45, order_item_product_id#46, order_item_subtotal#48]\n         +- Filter isnotnull(order_item_order_id#45)\n            +- Relation [order_item_id#44,order_item_order_id#45,order_item_product_id#46,order_item_quantity#47,order_item_subtotal#48,order_item_product_price#49] csv\n\n== Physical Plan ==\nAdaptiveSparkPlan isFinalPlan=true\n+- == Final Plan ==\n   ResultQueryStage 2, Statistics(sizeInBytes=325.8 KiB, rowCount=1.19E+4, ColumnStat: N/A, isRuntime=true)\n   +- *(3) HashAggregate(keys=[order_date#37, order_item_product_id#46], functions=[finalmerge_sum(merge sum#97) AS sum(order_item_subtotal#48)#89], output=[order_date#37, order_item_product_id#46, revenue#88])\n      +- AQEShuffleRead coalesced\n         +- ShuffleQueryStage 1, Statistics(sizeInBytes=372.4 KiB, rowCount=1.19E+4, ColumnStat: N/A, isRuntime=true)\n            +- Exchange hashpartitioning(order_date#37, order_item_product_id#46, 200), ENSURE_REQUIREMENTS, [plan_id=309]\n               +- *(2) HashAggregate(keys=[order_date#37, order_item_product_id#46], functions=[partial_sum(order_item_subtotal#48) AS sum#97], output=[order_date#37, order_item_product_id#46, sum#97])\n                  +- *(2) Project [order_date#37, order_item_product_id#46, order_item_subtotal#48]\n                     +- *(2) BroadcastHashJoin [order_id#36], [order_item_order_id#45], Inner, BuildLeft, false, true\n                        :- ShuffleQueryStage 0, Statistics(sizeInBytes=713.8 KiB, rowCount=3.05E+4, ColumnStat: N/A, isRuntime=true)\n                        :  +- Exchange SinglePartition, EXECUTOR_BROADCAST, [plan_id=260]\n                        :     +- *(1) Project [order_id#36, order_date#37]\n                        :        +- *(1) Filter (order_status#39 IN (COMPLETE,CLOSED) AND isnotnull(order_id#36))\n                        :           +- FileScan csv [order_id#36,order_date#37,order_status#39] Batched: false, DataFilters: [order_status#39 IN (COMPLETE,CLOSED), isnotnull(order_id#36)], Format: CSV, Location: InMemoryFileIndex(1 paths)[dbfs:/public/retail_db/orders], PartitionFilters: [], PushedFilters: [In(order_status, [CLOSED,COMPLETE]), IsNotNull(order_id)], ReadSchema: struct<order_id:int,order_date:timestamp,order_status:string>\n                        +- *(2) Filter isnotnull(order_item_order_id#45)\n                           +- FileScan csv [order_item_order_id#45,order_item_product_id#46,order_item_subtotal#48] Batched: false, DataFilters: [isnotnull(order_item_order_id#45)], Format: CSV, Location: InMemoryFileIndex(1 paths)[dbfs:/public/retail_db/order_items], PartitionFilters: [], PushedFilters: [IsNotNull(order_item_order_id)], ReadSchema: struct<order_item_order_id:int,order_item_product_id:int,order_item_subtotal:float>\n\n"
     ]
    }
   ],
   "source": [
    "daily_product_revenue.explain('extended')"
   ]
  },
  {
   "cell_type": "code",
   "execution_count": 0,
   "metadata": {
    "application/vnd.databricks.v1+cell": {
     "cellMetadata": {},
     "inputWidgets": {},
     "nuid": "1609bbc9-d3f9-4727-8b32-85cf1e42d179",
     "showTitle": false,
     "tableResultSettingsMap": {},
     "title": ""
    }
   },
   "outputs": [],
   "source": []
  }
 ],
 "metadata": {
  "application/vnd.databricks.v1+notebook": {
   "computePreferences": null,
   "dashboards": [],
   "environmentMetadata": {
    "base_environment": "",
    "environment_version": "2"
   },
   "inputWidgetPreferences": null,
   "language": "python",
   "notebookMetadata": {
    "mostRecentlyExecutedCommandWithImplicitDF": {
     "commandId": 6175865972800306,
     "dataframes": [
      "_sqldf"
     ]
    },
    "pythonIndentUnit": 4
   },
   "notebookName": "06 Catalyst Optimiser",
   "widgets": {}
  },
  "language_info": {
   "name": "python"
  }
 },
 "nbformat": 4,
 "nbformat_minor": 0
}